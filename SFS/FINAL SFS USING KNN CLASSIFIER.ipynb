{
 "cells": [
  {
   "cell_type": "markdown",
   "metadata": {},
   "source": [
    "# SFS WRAPPER, STRATIFIED 5 FOLD USING KNN CLASSIFIER"
   ]
  },
  {
   "cell_type": "code",
   "execution_count": 1,
   "metadata": {},
   "outputs": [],
   "source": [
    "import pandas as pd\n",
    "import numpy as np\n",
    "from sklearn import preprocessing\n",
    "from sklearn.model_selection import train_test_split\n",
    "data = pd.read_csv('mushrooms1.csv')\n",
    "from sklearn.ensemble import RandomForestClassifier\n",
    "from sklearn.datasets import make_classification\n",
    "from sklearn.naive_bayes import MultinomialNB\n",
    "from sklearn import svm\n",
    "from sklearn.svm import SVC\n",
    "from sklearn.linear_model import LogisticRegression\n",
    "from sklearn.neighbors import KNeighborsClassifier"
   ]
  },
  {
   "cell_type": "code",
   "execution_count": 2,
   "metadata": {},
   "outputs": [
    {
     "data": {
      "text/html": [
       "<div>\n",
       "<style scoped>\n",
       "    .dataframe tbody tr th:only-of-type {\n",
       "        vertical-align: middle;\n",
       "    }\n",
       "\n",
       "    .dataframe tbody tr th {\n",
       "        vertical-align: top;\n",
       "    }\n",
       "\n",
       "    .dataframe thead th {\n",
       "        text-align: right;\n",
       "    }\n",
       "</style>\n",
       "<table border=\"1\" class=\"dataframe\">\n",
       "  <thead>\n",
       "    <tr style=\"text-align: right;\">\n",
       "      <th></th>\n",
       "      <th>cap-shape</th>\n",
       "      <th>Cap surface</th>\n",
       "      <th>cap-color</th>\n",
       "      <th>bruises</th>\n",
       "      <th>gill-attachment</th>\n",
       "      <th>gill-spacing</th>\n",
       "      <th>gill-size</th>\n",
       "      <th>gill-color</th>\n",
       "      <th>stalk-shape</th>\n",
       "      <th>stalk-root</th>\n",
       "      <th>...</th>\n",
       "      <th>stalk-color-above-ring</th>\n",
       "      <th>stalk-color-below-ring</th>\n",
       "      <th>veil-type</th>\n",
       "      <th>veil-color</th>\n",
       "      <th>ring-number</th>\n",
       "      <th>ring-type</th>\n",
       "      <th>spore-print-color</th>\n",
       "      <th>population</th>\n",
       "      <th>habitat</th>\n",
       "      <th>category</th>\n",
       "    </tr>\n",
       "  </thead>\n",
       "  <tbody>\n",
       "    <tr>\n",
       "      <th>0</th>\n",
       "      <td>Convex</td>\n",
       "      <td>Smooth</td>\n",
       "      <td>n</td>\n",
       "      <td>Bruises</td>\n",
       "      <td>f</td>\n",
       "      <td>c</td>\n",
       "      <td>n</td>\n",
       "      <td>k</td>\n",
       "      <td>e</td>\n",
       "      <td>e</td>\n",
       "      <td>...</td>\n",
       "      <td>w</td>\n",
       "      <td>w</td>\n",
       "      <td>p</td>\n",
       "      <td>w</td>\n",
       "      <td>o</td>\n",
       "      <td>p</td>\n",
       "      <td>k</td>\n",
       "      <td>s</td>\n",
       "      <td>u</td>\n",
       "      <td>Poisonous</td>\n",
       "    </tr>\n",
       "    <tr>\n",
       "      <th>1</th>\n",
       "      <td>Convex</td>\n",
       "      <td>Smooth</td>\n",
       "      <td>y</td>\n",
       "      <td>Bruises</td>\n",
       "      <td>f</td>\n",
       "      <td>c</td>\n",
       "      <td>b</td>\n",
       "      <td>k</td>\n",
       "      <td>e</td>\n",
       "      <td>c</td>\n",
       "      <td>...</td>\n",
       "      <td>w</td>\n",
       "      <td>w</td>\n",
       "      <td>p</td>\n",
       "      <td>w</td>\n",
       "      <td>o</td>\n",
       "      <td>p</td>\n",
       "      <td>n</td>\n",
       "      <td>n</td>\n",
       "      <td>g</td>\n",
       "      <td>Edible</td>\n",
       "    </tr>\n",
       "    <tr>\n",
       "      <th>2</th>\n",
       "      <td>Bell</td>\n",
       "      <td>Smooth</td>\n",
       "      <td>w</td>\n",
       "      <td>Bruises</td>\n",
       "      <td>f</td>\n",
       "      <td>c</td>\n",
       "      <td>b</td>\n",
       "      <td>n</td>\n",
       "      <td>e</td>\n",
       "      <td>c</td>\n",
       "      <td>...</td>\n",
       "      <td>w</td>\n",
       "      <td>w</td>\n",
       "      <td>p</td>\n",
       "      <td>w</td>\n",
       "      <td>o</td>\n",
       "      <td>p</td>\n",
       "      <td>n</td>\n",
       "      <td>n</td>\n",
       "      <td>m</td>\n",
       "      <td>Edible</td>\n",
       "    </tr>\n",
       "    <tr>\n",
       "      <th>3</th>\n",
       "      <td>Convex</td>\n",
       "      <td>Scaly</td>\n",
       "      <td>w</td>\n",
       "      <td>Bruises</td>\n",
       "      <td>f</td>\n",
       "      <td>c</td>\n",
       "      <td>n</td>\n",
       "      <td>n</td>\n",
       "      <td>e</td>\n",
       "      <td>e</td>\n",
       "      <td>...</td>\n",
       "      <td>w</td>\n",
       "      <td>w</td>\n",
       "      <td>p</td>\n",
       "      <td>w</td>\n",
       "      <td>o</td>\n",
       "      <td>p</td>\n",
       "      <td>k</td>\n",
       "      <td>s</td>\n",
       "      <td>u</td>\n",
       "      <td>Poisonous</td>\n",
       "    </tr>\n",
       "    <tr>\n",
       "      <th>4</th>\n",
       "      <td>Convex</td>\n",
       "      <td>Smooth</td>\n",
       "      <td>g</td>\n",
       "      <td>NoBruises</td>\n",
       "      <td>f</td>\n",
       "      <td>w</td>\n",
       "      <td>b</td>\n",
       "      <td>k</td>\n",
       "      <td>t</td>\n",
       "      <td>e</td>\n",
       "      <td>...</td>\n",
       "      <td>w</td>\n",
       "      <td>w</td>\n",
       "      <td>p</td>\n",
       "      <td>w</td>\n",
       "      <td>o</td>\n",
       "      <td>e</td>\n",
       "      <td>n</td>\n",
       "      <td>a</td>\n",
       "      <td>g</td>\n",
       "      <td>Edible</td>\n",
       "    </tr>\n",
       "    <tr>\n",
       "      <th>...</th>\n",
       "      <td>...</td>\n",
       "      <td>...</td>\n",
       "      <td>...</td>\n",
       "      <td>...</td>\n",
       "      <td>...</td>\n",
       "      <td>...</td>\n",
       "      <td>...</td>\n",
       "      <td>...</td>\n",
       "      <td>...</td>\n",
       "      <td>...</td>\n",
       "      <td>...</td>\n",
       "      <td>...</td>\n",
       "      <td>...</td>\n",
       "      <td>...</td>\n",
       "      <td>...</td>\n",
       "      <td>...</td>\n",
       "      <td>...</td>\n",
       "      <td>...</td>\n",
       "      <td>...</td>\n",
       "      <td>...</td>\n",
       "      <td>...</td>\n",
       "    </tr>\n",
       "    <tr>\n",
       "      <th>8119</th>\n",
       "      <td>Knobbed</td>\n",
       "      <td>Smooth</td>\n",
       "      <td>n</td>\n",
       "      <td>NoBruises</td>\n",
       "      <td>a</td>\n",
       "      <td>c</td>\n",
       "      <td>b</td>\n",
       "      <td>y</td>\n",
       "      <td>e</td>\n",
       "      <td>?</td>\n",
       "      <td>...</td>\n",
       "      <td>o</td>\n",
       "      <td>o</td>\n",
       "      <td>p</td>\n",
       "      <td>o</td>\n",
       "      <td>o</td>\n",
       "      <td>p</td>\n",
       "      <td>b</td>\n",
       "      <td>c</td>\n",
       "      <td>l</td>\n",
       "      <td>Edible</td>\n",
       "    </tr>\n",
       "    <tr>\n",
       "      <th>8120</th>\n",
       "      <td>Convex</td>\n",
       "      <td>Smooth</td>\n",
       "      <td>n</td>\n",
       "      <td>NoBruises</td>\n",
       "      <td>a</td>\n",
       "      <td>c</td>\n",
       "      <td>b</td>\n",
       "      <td>y</td>\n",
       "      <td>e</td>\n",
       "      <td>?</td>\n",
       "      <td>...</td>\n",
       "      <td>o</td>\n",
       "      <td>o</td>\n",
       "      <td>p</td>\n",
       "      <td>n</td>\n",
       "      <td>o</td>\n",
       "      <td>p</td>\n",
       "      <td>b</td>\n",
       "      <td>v</td>\n",
       "      <td>l</td>\n",
       "      <td>Edible</td>\n",
       "    </tr>\n",
       "    <tr>\n",
       "      <th>8121</th>\n",
       "      <td>Flat</td>\n",
       "      <td>Smooth</td>\n",
       "      <td>n</td>\n",
       "      <td>NoBruises</td>\n",
       "      <td>a</td>\n",
       "      <td>c</td>\n",
       "      <td>b</td>\n",
       "      <td>n</td>\n",
       "      <td>e</td>\n",
       "      <td>?</td>\n",
       "      <td>...</td>\n",
       "      <td>o</td>\n",
       "      <td>o</td>\n",
       "      <td>p</td>\n",
       "      <td>o</td>\n",
       "      <td>o</td>\n",
       "      <td>p</td>\n",
       "      <td>b</td>\n",
       "      <td>c</td>\n",
       "      <td>l</td>\n",
       "      <td>Edible</td>\n",
       "    </tr>\n",
       "    <tr>\n",
       "      <th>8122</th>\n",
       "      <td>Knobbed</td>\n",
       "      <td>Scaly</td>\n",
       "      <td>n</td>\n",
       "      <td>NoBruises</td>\n",
       "      <td>f</td>\n",
       "      <td>c</td>\n",
       "      <td>n</td>\n",
       "      <td>b</td>\n",
       "      <td>t</td>\n",
       "      <td>?</td>\n",
       "      <td>...</td>\n",
       "      <td>w</td>\n",
       "      <td>w</td>\n",
       "      <td>p</td>\n",
       "      <td>w</td>\n",
       "      <td>o</td>\n",
       "      <td>e</td>\n",
       "      <td>w</td>\n",
       "      <td>v</td>\n",
       "      <td>l</td>\n",
       "      <td>Poisonous</td>\n",
       "    </tr>\n",
       "    <tr>\n",
       "      <th>8123</th>\n",
       "      <td>Convex</td>\n",
       "      <td>Smooth</td>\n",
       "      <td>n</td>\n",
       "      <td>NoBruises</td>\n",
       "      <td>a</td>\n",
       "      <td>c</td>\n",
       "      <td>b</td>\n",
       "      <td>y</td>\n",
       "      <td>e</td>\n",
       "      <td>?</td>\n",
       "      <td>...</td>\n",
       "      <td>o</td>\n",
       "      <td>o</td>\n",
       "      <td>p</td>\n",
       "      <td>o</td>\n",
       "      <td>o</td>\n",
       "      <td>p</td>\n",
       "      <td>o</td>\n",
       "      <td>c</td>\n",
       "      <td>l</td>\n",
       "      <td>Edible</td>\n",
       "    </tr>\n",
       "  </tbody>\n",
       "</table>\n",
       "<p>8124 rows × 22 columns</p>\n",
       "</div>"
      ],
      "text/plain": [
       "     cap-shape Cap surface cap-color    bruises gill-attachment gill-spacing  \\\n",
       "0       Convex      Smooth         n    Bruises               f            c   \n",
       "1       Convex      Smooth         y    Bruises               f            c   \n",
       "2         Bell      Smooth         w    Bruises               f            c   \n",
       "3       Convex       Scaly         w    Bruises               f            c   \n",
       "4       Convex      Smooth         g  NoBruises               f            w   \n",
       "...        ...         ...       ...        ...             ...          ...   \n",
       "8119   Knobbed      Smooth         n  NoBruises               a            c   \n",
       "8120    Convex      Smooth         n  NoBruises               a            c   \n",
       "8121      Flat      Smooth         n  NoBruises               a            c   \n",
       "8122   Knobbed       Scaly         n  NoBruises               f            c   \n",
       "8123    Convex      Smooth         n  NoBruises               a            c   \n",
       "\n",
       "     gill-size gill-color stalk-shape stalk-root  ... stalk-color-above-ring  \\\n",
       "0            n          k           e          e  ...                      w   \n",
       "1            b          k           e          c  ...                      w   \n",
       "2            b          n           e          c  ...                      w   \n",
       "3            n          n           e          e  ...                      w   \n",
       "4            b          k           t          e  ...                      w   \n",
       "...        ...        ...         ...        ...  ...                    ...   \n",
       "8119         b          y           e          ?  ...                      o   \n",
       "8120         b          y           e          ?  ...                      o   \n",
       "8121         b          n           e          ?  ...                      o   \n",
       "8122         n          b           t          ?  ...                      w   \n",
       "8123         b          y           e          ?  ...                      o   \n",
       "\n",
       "     stalk-color-below-ring veil-type veil-color ring-number ring-type  \\\n",
       "0                         w         p          w           o         p   \n",
       "1                         w         p          w           o         p   \n",
       "2                         w         p          w           o         p   \n",
       "3                         w         p          w           o         p   \n",
       "4                         w         p          w           o         e   \n",
       "...                     ...       ...        ...         ...       ...   \n",
       "8119                      o         p          o           o         p   \n",
       "8120                      o         p          n           o         p   \n",
       "8121                      o         p          o           o         p   \n",
       "8122                      w         p          w           o         e   \n",
       "8123                      o         p          o           o         p   \n",
       "\n",
       "     spore-print-color population habitat   category  \n",
       "0                    k          s       u  Poisonous  \n",
       "1                    n          n       g     Edible  \n",
       "2                    n          n       m     Edible  \n",
       "3                    k          s       u  Poisonous  \n",
       "4                    n          a       g     Edible  \n",
       "...                ...        ...     ...        ...  \n",
       "8119                 b          c       l     Edible  \n",
       "8120                 b          v       l     Edible  \n",
       "8121                 b          c       l     Edible  \n",
       "8122                 w          v       l  Poisonous  \n",
       "8123                 o          c       l     Edible  \n",
       "\n",
       "[8124 rows x 22 columns]"
      ]
     },
     "execution_count": 2,
     "metadata": {},
     "output_type": "execute_result"
    }
   ],
   "source": [
    "data#-----------INITIAL DATA"
   ]
  },
  {
   "cell_type": "code",
   "execution_count": 3,
   "metadata": {},
   "outputs": [
    {
     "name": "stdout",
     "output_type": "stream",
     "text": [
      "['Convex' 'Convex' 'Bell' ... 'Flat' 'Knobbed' 'Convex']\n"
     ]
    }
   ],
   "source": [
    "data_n = data.to_numpy()\n",
    "print(data_n[:,0])"
   ]
  },
  {
   "cell_type": "code",
   "execution_count": 4,
   "metadata": {},
   "outputs": [],
   "source": [
    "cols = ['cap-shape', 'Cap surface','cap-color','bruises','gill-attachment', 'gill-spacing','gill-size','gill-color', 'stalk-shape','stalk-root','stalk-surface-above-ring','stalk-surface-below-ring', 'stalk-color-above-ring', 'stalk-color-below-ring', 'veil-type','ring-number','ring-type', 'spore-print-color','population','habitat', 'veil-color','category']\n",
    "data[cols] = data[cols].apply(lambda x: pd.factorize(x)[0] + 1) #--------FACTORIZING THE DATA\n"
   ]
  },
  {
   "cell_type": "code",
   "execution_count": 5,
   "metadata": {},
   "outputs": [],
   "source": [
    "Data_preprocessed = pd.DataFrame(data)#---------CONVERTING TO NUMPY DATASET\n",
    "data_nnp = data.to_numpy()"
   ]
  },
  {
   "cell_type": "code",
   "execution_count": 6,
   "metadata": {},
   "outputs": [
    {
     "data": {
      "text/plain": [
       "array([1, 1, 2, 1, 1, 1, 2, 1, 1, 2, 1, 1, 1, 1, 1, 1, 1, 1, 2, 2, 2, 2],\n",
       "      dtype=int64)"
      ]
     },
     "execution_count": 6,
     "metadata": {},
     "output_type": "execute_result"
    }
   ],
   "source": [
    "data_nnp[1,:]"
   ]
  },
  {
   "cell_type": "code",
   "execution_count": null,
   "metadata": {},
   "outputs": [],
   "source": []
  },
  {
   "cell_type": "markdown",
   "metadata": {},
   "source": [
    "## STARTING THE STRATIFIED K FOLD FROM HERE"
   ]
  },
  {
   "cell_type": "code",
   "execution_count": 7,
   "metadata": {},
   "outputs": [],
   "source": [
    "data_c1 = []#-------------LIST WITH POSITIVE OUTPUT CLASS\n",
    "data_c2 = []#---------------------------- LIST WITH NEGATIVE OUTPUT CLASS\n",
    "data_c1.clear()\n",
    "data_c2.clear()\n",
    "for i in range(len(data_nnp)):\n",
    "    if (data_nnp[i,21] == 1):#-------------------COUNTING NUMBER OF POSITIVE AND NEGATIVE CLASEES\n",
    "        data_c1.append(data_nnp[i,:])\n",
    "        \n",
    "    if(data_nnp[i,21] == 2):\n",
    "        data_c2.append(data_nnp[i,:])\n",
    "        \n"
   ]
  },
  {
   "cell_type": "code",
   "execution_count": 8,
   "metadata": {},
   "outputs": [],
   "source": [
    "data_c2 = np.asarray(data_c2)\n",
    "data_c1 = np.asarray(data_c1)\n"
   ]
  },
  {
   "cell_type": "code",
   "execution_count": 9,
   "metadata": {},
   "outputs": [
    {
     "name": "stdout",
     "output_type": "stream",
     "text": [
      "(3916, 22)\n",
      "(4208, 22)\n",
      "(3915, 22)\n",
      "(4200, 22)\n"
     ]
    }
   ],
   "source": [
    "print(data_c1.shape)\n",
    "print(data_c2.shape)\n",
    "\n",
    "data_c1 = np.delete(data_c1, (0), axis=0)\n",
    "data_c2 = np.delete(data_c2, (0,1,2,3,4,5,6,7), axis=0)\n",
    "\n",
    "print(data_c1.shape)#-------------resizing the data to be divisiable by 5, BECAUSE DATA WILL BE DEVIDED IN 5 PARTS IN 5 FOLD\n",
    "print(data_c2.shape)"
   ]
  },
  {
   "cell_type": "code",
   "execution_count": 10,
   "metadata": {},
   "outputs": [],
   "source": [
    "data_c1_split=np.split(data_c1, 5)\n",
    "data_c2_split = np.split(data_c2, 5)#---- SPLITTING BOTH CLASSES INTO 5 PARTS"
   ]
  },
  {
   "cell_type": "code",
   "execution_count": 11,
   "metadata": {},
   "outputs": [
    {
     "data": {
      "text/plain": [
       "10"
      ]
     },
     "execution_count": 11,
     "metadata": {},
     "output_type": "execute_result"
    }
   ],
   "source": [
    "x = data_c2_split + data_c1_split \n",
    "len(x)"
   ]
  },
  {
   "cell_type": "code",
   "execution_count": 12,
   "metadata": {},
   "outputs": [
    {
     "name": "stdout",
     "output_type": "stream",
     "text": [
      "(840, 22)\n",
      "(783, 22)\n"
     ]
    }
   ],
   "source": [
    "print(data_c2_split[0].shape)\n",
    "print(data_c1_split[0].shape)\n"
   ]
  },
  {
   "cell_type": "code",
   "execution_count": 13,
   "metadata": {},
   "outputs": [],
   "source": [
    "data_merged = []\n",
    "data_merged.clear()#-----------merging both pos and neg classes\n",
    "for i in range(5):\n",
    "    data_merged.append(np.concatenate((data_c1_split[i], data_c2_split[i]), axis=0) )"
   ]
  },
  {
   "cell_type": "code",
   "execution_count": 14,
   "metadata": {},
   "outputs": [
    {
     "name": "stdout",
     "output_type": "stream",
     "text": [
      "(1623, 22)\n"
     ]
    }
   ],
   "source": [
    "# len(data_merged)\n",
    "print(data_merged[0].shape)#----------merged classes which is 840+783 \n",
    "data_merged[2].shape\n",
    "a=np.concatenate((data_merged[0], data_merged[1],data_merged[2]), axis=0) # concatinating all 5 parts of folds\n"
   ]
  },
  {
   "cell_type": "code",
   "execution_count": 15,
   "metadata": {},
   "outputs": [],
   "source": [
    "#X_train1, X_test1, y_train, y_test = train_test_split(data_nnp, y,test_size=0.5)"
   ]
  },
  {
   "cell_type": "code",
   "execution_count": 16,
   "metadata": {},
   "outputs": [],
   "source": [
    "\n",
    "for j in range(5):\n",
    "    np.random.shuffle(data_merged[j])#------now shuffling the values within 5 parts"
   ]
  },
  {
   "cell_type": "markdown",
   "metadata": {},
   "source": [
    "## SFS FOR SINGLE FEATURE AT A TIME AND CALCULATING ACCURACY WITH EACH FEATURE SEPERATELY"
   ]
  },
  {
   "cell_type": "code",
   "execution_count": 17,
   "metadata": {},
   "outputs": [],
   "source": [
    "all_list = []\n",
    "all_list.clear()\n",
    "def SFS_single(x_train, y_train, x_test, y_test):#---- starting sfs from here, it will apply classifier for each feature and calculate accuracy\n",
    "                                                            \n",
    "    output=0\n",
    "    old_output=0\n",
    "    ave_output=0\n",
    "    \n",
    "    for m in range(len(testing_set[1,:])):\n",
    "        \n",
    "        d = x_train[:,m].reshape(-1,1)\n",
    "        d_t = x_test[:,m].reshape(-1,1)\n",
    "        \n",
    "       \n",
    "        \n",
    "\n",
    "#         clf = MultinomialNB()\n",
    "#         clf.fit(d, y_train)\n",
    "\n",
    "#         predicted = clf.predict(X_train)\n",
    "#         # print(predicted[5000:6000])\n",
    "#         print(clf.score( X_test, y_test))\n",
    "\n",
    "\n",
    "        #clf = LogisticRegression(random_state=0, solver='lbfgs',multi_class='multinomial').\n",
    "        \n",
    "        clf = KNeighborsClassifier(n_neighbors=5)\n",
    "        clf.fit(d, y_train)\n",
    "        clf.predict(d_t)\n",
    "        output = clf.score(d_t,y_test)\n",
    "\n",
    "        \n",
    "\n",
    "\n",
    "        print(\"Accuracy with KNNclassifier with features number\", + m ,output)\n",
    "        ave_output = (old_output+output)/2\n",
    "        #print(\"Average\",+ave_output)\n",
    "        old_output = output\n",
    "        ave_output = (old_output+output)/2\n",
    "        #print(\"Average\",+ave_output)\n",
    "        all_list.append(output)\n",
    "        \n",
    "            \n",
    "            \n",
    "        \n",
    "    "
   ]
  },
  {
   "cell_type": "markdown",
   "metadata": {},
   "source": [
    "## CALLING SFS SINGLE FUNCTION WITHIN STRATIFIED 5 FOLDS."
   ]
  },
  {
   "cell_type": "code",
   "execution_count": 18,
   "metadata": {},
   "outputs": [
    {
     "name": "stdout",
     "output_type": "stream",
     "text": [
      "when test at in k fold----------------------------------- 0\n",
      "Accuracy with KNNclassifier with features number 0 0.5175600739371534\n",
      "Accuracy with KNNclassifier with features number 1 0.4824399260628466\n",
      "Accuracy with KNNclassifier with features number 2 0.6888478126925447\n",
      "Accuracy with KNNclassifier with features number 3 0.270486752926679\n",
      "Accuracy with KNNclassifier with features number 4 0.5175600739371534\n",
      "Accuracy with KNNclassifier with features number 5 0.5329636475662354\n",
      "Accuracy with KNNclassifier with features number 6 0.6857670979667283\n",
      "Accuracy with KNNclassifier with features number 7 0.5951940850277264\n",
      "Accuracy with KNNclassifier with features number 8 0.5908810844115835\n",
      "Accuracy with KNNclassifier with features number 9 0.8354898336414048\n",
      "Accuracy with KNNclassifier with features number 10 0.7301293900184843\n",
      "Accuracy with KNNclassifier with features number 11 0.6019716574245225\n",
      "Accuracy with KNNclassifier with features number 12 0.7288971041281578\n",
      "Accuracy with KNNclassifier with features number 13 0.48305606900800985\n",
      "Accuracy with KNNclassifier with features number 14 0.5175600739371534\n",
      "Accuracy with KNNclassifier with features number 15 0.5175600739371534\n",
      "Accuracy with KNNclassifier with features number 16 0.5181762168823167\n",
      "Accuracy with KNNclassifier with features number 17 0.7288971041281578\n",
      "Accuracy with KNNclassifier with features number 18 0.6062846580406654\n",
      "Accuracy with KNNclassifier with features number 19 0.7097966728280961\n",
      "Accuracy with KNNclassifier with features number 20 0.6974738139248305\n",
      "when test at in k fold----------------------------------- 1\n",
      "Accuracy with KNNclassifier with features number 0 0.51879235982748\n",
      "Accuracy with KNNclassifier with features number 1 0.5175600739371534\n",
      "Accuracy with KNNclassifier with features number 2 0.7935921133703019\n",
      "Accuracy with KNNclassifier with features number 3 0.5175600739371534\n",
      "Accuracy with KNNclassifier with features number 4 0.5175600739371534\n",
      "Accuracy with KNNclassifier with features number 5 0.8299445471349353\n",
      "Accuracy with KNNclassifier with features number 6 0.5175600739371534\n",
      "Accuracy with KNNclassifier with features number 7 0.6826863832409119\n",
      "Accuracy with KNNclassifier with features number 8 0.8866296980899568\n",
      "Accuracy with KNNclassifier with features number 9 0.9020332717190388\n",
      "Accuracy with KNNclassifier with features number 10 0.9562538508934073\n",
      "Accuracy with KNNclassifier with features number 11 0.9544054220579175\n",
      "Accuracy with KNNclassifier with features number 12 0.9248305606900801\n",
      "Accuracy with KNNclassifier with features number 13 0.9254467036352434\n",
      "Accuracy with KNNclassifier with features number 14 0.5175600739371534\n",
      "Accuracy with KNNclassifier with features number 15 0.5175600739371534\n",
      "Accuracy with KNNclassifier with features number 16 0.5218730745532963\n",
      "Accuracy with KNNclassifier with features number 17 0.9470117067159581\n",
      "Accuracy with KNNclassifier with features number 18 0.9913739987677141\n",
      "Accuracy with KNNclassifier with features number 19 0.8693776956253851\n",
      "Accuracy with KNNclassifier with features number 20 0.5021565003080715\n",
      "when test at in k fold----------------------------------- 2\n",
      "Accuracy with KNNclassifier with features number 0 0.4824399260628466\n",
      "Accuracy with KNNclassifier with features number 1 0.714109673444239\n",
      "Accuracy with KNNclassifier with features number 2 0.6833025261860751\n",
      "Accuracy with KNNclassifier with features number 3 0.7362908194701171\n",
      "Accuracy with KNNclassifier with features number 4 0.4824399260628466\n",
      "Accuracy with KNNclassifier with features number 5 0.5489833641404805\n",
      "Accuracy with KNNclassifier with features number 6 0.6500308071472581\n",
      "Accuracy with KNNclassifier with features number 7 0.7590881084411584\n",
      "Accuracy with KNNclassifier with features number 8 0.729513247073321\n",
      "Accuracy with KNNclassifier with features number 9 0.5576093653727665\n",
      "Accuracy with KNNclassifier with features number 10 0.791743684534812\n",
      "Accuracy with KNNclassifier with features number 11 0.7855822550831792\n",
      "Accuracy with KNNclassifier with features number 12 0.5779420825631546\n",
      "Accuracy with KNNclassifier with features number 13 0.6087492298213185\n",
      "Accuracy with KNNclassifier with features number 14 0.4824399260628466\n",
      "Accuracy with KNNclassifier with features number 15 0.4824399260628466\n",
      "Accuracy with KNNclassifier with features number 16 0.4824399260628466\n",
      "Accuracy with KNNclassifier with features number 17 0.6752926678989526\n",
      "Accuracy with KNNclassifier with features number 18 0.9993838570548367\n",
      "Accuracy with KNNclassifier with features number 19 0.6216882316697474\n",
      "Accuracy with KNNclassifier with features number 20 0.822550831792976\n",
      "when test at in k fold----------------------------------- 3\n",
      "Accuracy with KNNclassifier with features number 0 0.5557609365372767\n",
      "Accuracy with KNNclassifier with features number 1 0.6894639556377079\n",
      "Accuracy with KNNclassifier with features number 2 0.5828712261244609\n",
      "Accuracy with KNNclassifier with features number 3 0.9950708564386938\n",
      "Accuracy with KNNclassifier with features number 4 0.4824399260628466\n",
      "Accuracy with KNNclassifier with features number 5 0.4867529266789895\n",
      "Accuracy with KNNclassifier with features number 6 0.9969192852741836\n",
      "Accuracy with KNNclassifier with features number 7 0.9987677141096735\n",
      "Accuracy with KNNclassifier with features number 8 0.4836722119531731\n",
      "Accuracy with KNNclassifier with features number 9 0.9987677141096735\n",
      "Accuracy with KNNclassifier with features number 10 0.7541589648798521\n",
      "Accuracy with KNNclassifier with features number 11 0.7572396796056685\n",
      "Accuracy with KNNclassifier with features number 12 0.5939617991373999\n",
      "Accuracy with KNNclassifier with features number 13 0.51879235982748\n",
      "Accuracy with KNNclassifier with features number 14 0.4824399260628466\n",
      "Accuracy with KNNclassifier with features number 15 0.4824399260628466\n",
      "Accuracy with KNNclassifier with features number 16 0.48305606900800985\n",
      "Accuracy with KNNclassifier with features number 17 0.9950708564386938\n",
      "Accuracy with KNNclassifier with features number 18 0.9981515711645101\n",
      "Accuracy with KNNclassifier with features number 19 0.7479975354282193\n",
      "Accuracy with KNNclassifier with features number 20 0.8453481207640172\n",
      "when test at in k fold----------------------------------- 4\n",
      "Accuracy with KNNclassifier with features number 0 0.4904497843499692\n",
      "Accuracy with KNNclassifier with features number 1 0.6266173752310537\n",
      "Accuracy with KNNclassifier with features number 2 0.7147258163894024\n",
      "Accuracy with KNNclassifier with features number 3 0.6370918052988294\n",
      "Accuracy with KNNclassifier with features number 4 0.5175600739371534\n",
      "Accuracy with KNNclassifier with features number 5 0.5175600739371534\n",
      "Accuracy with KNNclassifier with features number 6 0.9217498459642637\n",
      "Accuracy with KNNclassifier with features number 7 0.9741219963031423\n",
      "Accuracy with KNNclassifier with features number 8 0.9568699938385705\n",
      "Accuracy with KNNclassifier with features number 9 0.5434380776340111\n",
      "Accuracy with KNNclassifier with features number 10 0.6715958102279729\n",
      "Accuracy with KNNclassifier with features number 11 0.6728280961182994\n",
      "Accuracy with KNNclassifier with features number 12 0.6752926678989526\n",
      "Accuracy with KNNclassifier with features number 13 0.7030191004313001\n",
      "Accuracy with KNNclassifier with features number 14 0.5175600739371534\n",
      "Accuracy with KNNclassifier with features number 15 0.5224892174984597\n",
      "Accuracy with KNNclassifier with features number 16 0.807147258163894\n",
      "Accuracy with KNNclassifier with features number 17 0.8539741219963032\n",
      "Accuracy with KNNclassifier with features number 18 0.6469500924214417\n",
      "Accuracy with KNNclassifier with features number 19 0.8539741219963032\n",
      "Accuracy with KNNclassifier with features number 20 0.7775723967960567\n"
     ]
    }
   ],
   "source": [
    "def concat_list(training_set,size=4):\n",
    "    my_arr = training_set[0]\n",
    "    for i in range(1,size):\n",
    "        my_arr = np.concatenate((my_arr, training_set[i]), axis=0)\n",
    "    return my_arr\n",
    "    #-----------------5 Stratifieid K fold\n",
    "l= 0\n",
    "\n",
    "for i in range(5):#-------------a loop for 5 stratified k fold\n",
    "    training_set = []\n",
    "    #training_set.clear()\n",
    "    testing_set = []\n",
    "    testing_set =data_merged[i]\n",
    "    for j in range(5):\n",
    "        if i !=j:\n",
    "            training_set.append(data_merged[i])\n",
    "    training_set = concat_list(training_set,size=4)\n",
    "    \n",
    "    training_set_labels = training_set[:,21]\n",
    "    training_set = training_set[:,0:21]\n",
    "    testing_set_labels = testing_set[:,21]\n",
    "    testing_set = testing_set[:,0:21]\n",
    "    print(\"when test at in k fold-----------------------------------\", +i)\n",
    "    \n",
    "    \n",
    "    \n",
    "    \n",
    "    SFS_single(training_set,training_set_labels,testing_set,testing_set_labels)#-----------calling sfs fucntion\n",
    "    \n",
    "    \n",
    "    \n",
    "    \n",
    "    \n",
    "    \n"
   ]
  },
  {
   "cell_type": "code",
   "execution_count": 19,
   "metadata": {},
   "outputs": [
    {
     "name": "stdout",
     "output_type": "stream",
     "text": [
      "105\n"
     ]
    }
   ],
   "source": [
    "print(len(all_list))\n",
    "average_list = []\n",
    "average_list.clear()#-----------calculating average of all features after 5 k folds\n",
    "for i in range(len(testing_set[1,:])):\n",
    "    a = (all_list[i] + all_list[i+21] + all_list[i+42] + all_list[i+63] + all_list[i+84])/5\n",
    "    average_list.append([i,a])\n",
    "    "
   ]
  },
  {
   "cell_type": "code",
   "execution_count": 20,
   "metadata": {},
   "outputs": [
    {
     "name": "stdout",
     "output_type": "stream",
     "text": [
      "[[0, 0.5130006161429452], [1, 0.6060382008626002], [2, 0.692667898952557], [3, 0.6313000616142945], [4, 0.5035120147874307], [5, 0.5832409118915589], [6, 0.7544054220579174], [7, 0.8019716574245225], [8, 0.729513247073321], [9, 0.7674676524953791], [10, 0.7807763401109057], [11, 0.7544054220579175], [12, 0.7001848428835491], [13, 0.6478126925446703], [14, 0.5035120147874307], [15, 0.5044978434996918], [16, 0.5625385089340728], [17, 0.8400492914356132], [18, 0.8484288354898336], [19, 0.7605668515095502], [20, 0.7290203327171904]]\n"
     ]
    }
   ],
   "source": [
    "print(average_list) #--------------average list of features\n",
    "sorted_average_list = sorted(average_list,reverse=True, key=lambda x : x[1])#"
   ]
  },
  {
   "cell_type": "code",
   "execution_count": 21,
   "metadata": {},
   "outputs": [
    {
     "name": "stdout",
     "output_type": "stream",
     "text": [
      "[[18.          0.84842884]\n",
      " [17.          0.84004929]\n",
      " [ 7.          0.80197166]\n",
      " [10.          0.78077634]\n",
      " [ 9.          0.76746765]\n",
      " [19.          0.76056685]\n",
      " [11.          0.75440542]\n",
      " [ 6.          0.75440542]\n",
      " [ 8.          0.72951325]\n",
      " [20.          0.72902033]\n",
      " [12.          0.70018484]\n",
      " [ 2.          0.6926679 ]\n",
      " [13.          0.64781269]\n",
      " [ 3.          0.63130006]\n",
      " [ 1.          0.6060382 ]\n",
      " [ 5.          0.58324091]\n",
      " [16.          0.56253851]\n",
      " [ 0.          0.51300062]\n",
      " [15.          0.50449784]\n",
      " [ 4.          0.50351201]\n",
      " [14.          0.50351201]]\n"
     ]
    }
   ],
   "source": [
    "#print(sorted_average_list)#-------sorted average list\n",
    "d = np.asarray(sorted_average_list)#--------sorted list of features, 17th feature has the greateast accuracy\n",
    "print(d)"
   ]
  },
  {
   "cell_type": "markdown",
   "metadata": {},
   "source": [
    "## GOT THE INDEX OF MOST IMPORTANT FEATURES"
   ]
  },
  {
   "cell_type": "code",
   "execution_count": 22,
   "metadata": {},
   "outputs": [
    {
     "name": "stdout",
     "output_type": "stream",
     "text": [
      "[[18  0]\n",
      " [17  0]\n",
      " [ 7  0]\n",
      " [10  0]\n",
      " [ 9  0]\n",
      " [19  0]\n",
      " [11  0]\n",
      " [ 6  0]\n",
      " [ 8  0]\n",
      " [20  0]\n",
      " [12  0]\n",
      " [ 2  0]\n",
      " [13  0]\n",
      " [ 3  0]\n",
      " [ 1  0]\n",
      " [ 5  0]\n",
      " [16  0]\n",
      " [ 0  0]\n",
      " [15  0]\n",
      " [ 4  0]\n",
      " [14  0]]\n"
     ]
    }
   ],
   "source": [
    "sorted_average_list= np.asarray(sorted_average_list, dtype=np.int)#-------now this is the index of features which highes accuracy\n",
    "print(sorted_average_list)\n"
   ]
  },
  {
   "cell_type": "markdown",
   "metadata": {},
   "source": [
    "## USING THESE INDEX OF FEATURES AND ADDING FEATAURES ONE BY ONE TO GET ACCCURACY. IF THE PERFORMANCE IS SAME OR DECREASE THE LOOP WILL BREAK"
   ]
  },
  {
   "cell_type": "code",
   "execution_count": 23,
   "metadata": {},
   "outputs": [],
   "source": [
    "sfs_feature = [] \n",
    "sfs_feature_t = []\n",
    "def SFS(X_train, y_train, X_test, y_test):#--------------in this fucntion each feature will added to the list continusoly and will find accuracy\n",
    "    i=1\n",
    "    old_output = 0\n",
    "    for i in range(len(sorted_average_list)):\n",
    "        \n",
    "        \n",
    "        e = X_train[:,sorted_average_list[i,0]]#------for training data \n",
    "        sfs_feature.append(e)\n",
    "        b = np.array(sfs_feature)\n",
    "        d = np.transpose(b)\n",
    "       # print(d.shape)\n",
    "        \n",
    "        \n",
    "        \n",
    "        \n",
    "        e_t = X_test[:,sorted_average_list[i,0]]\n",
    "        sfs_feature_t.append(e_t)\n",
    "        b_t = np.array(sfs_feature_t)\n",
    "        d_t = np.transpose(b_t)\n",
    "       # print(d_t.shape)\n",
    "       \n",
    "        \n",
    "        #print(\"x_train_shape\", + d.shape)\n",
    "        \n",
    "#         clf = RandomForestClassifier(n_estimators=400, max_depth=2)\n",
    "#         clf.fit(d, y_train)\n",
    "#         output = clf.score(d_t,y_test)\n",
    "#         print(\"Accuracy with random forest adding features\", + i ,output)\n",
    "\n",
    "        #clf = LogisticRegression(random_state=0, solver='lbfgs',multi_class='multinomial')\n",
    "        \n",
    "        clf = KNeighborsClassifier(n_neighbors=5)\n",
    "        clf.fit(d, y_train)\n",
    "        clf.predict(d_t)\n",
    "        output = clf.score(d_t,y_test)\n",
    "        \n",
    "        \n",
    "        if(output<=old_output):\n",
    "            print(\"Stopping because next accuracy is lower or same---------------------------\")\n",
    "            break\n",
    "            \n",
    "        else: \n",
    "            print(\"Accuracy with KNN classifier adding features\", + i ,output)    \n",
    "            old_output = output\n",
    "        \n",
    "        \n",
    "        "
   ]
  },
  {
   "cell_type": "markdown",
   "metadata": {},
   "source": [
    "## PUTTING SFS FUNCTION IN STRATIFIED 5 FOLD LOOP"
   ]
  },
  {
   "cell_type": "code",
   "execution_count": 24,
   "metadata": {},
   "outputs": [
    {
     "name": "stdout",
     "output_type": "stream",
     "text": [
      "WHEN K FOLD TEST AT 0\n",
      "Accuracy with KNN classifier adding features 0 0.6062846580406654\n",
      "Accuracy with KNN classifier adding features 1 0.6358595194085028\n",
      "Accuracy with KNN classifier adding features 2 0.7418361059765866\n",
      "Stopping because next accuracy is lower or same---------------------------\n",
      "WHEN K FOLD TEST AT 1\n",
      "Accuracy with KNN classifier adding features 0 0.9913739987677141\n",
      "Accuracy with KNN classifier adding features 1 0.9919901417128774\n",
      "Accuracy with KNN classifier adding features 2 0.9932224276032039\n",
      "Stopping because next accuracy is lower or same---------------------------\n",
      "WHEN K FOLD TEST AT 2\n",
      "Accuracy with KNN classifier adding features 0 0.9993838570548367\n",
      "Stopping because next accuracy is lower or same---------------------------\n",
      "WHEN K FOLD TEST AT 3\n",
      "Accuracy with KNN classifier adding features 0 0.9993838570548367\n",
      "Stopping because next accuracy is lower or same---------------------------\n",
      "WHEN K FOLD TEST AT 4\n",
      "Accuracy with KNN classifier adding features 0 0.9500924214417745\n",
      "Accuracy with KNN classifier adding features 1 0.9796672828096118\n",
      "Accuracy with KNN classifier adding features 2 0.9993838570548367\n",
      "Accuracy with KNN classifier adding features 3 1.0\n",
      "Stopping because next accuracy is lower or same---------------------------\n"
     ]
    }
   ],
   "source": [
    "def concat_list(training_set,size=4):\n",
    "    my_arr = training_set[0]\n",
    "    for i in range(1,size):#---------------again using stratified k fold to calcualte accuracy with with each feature being added to list\n",
    "        my_arr = np.concatenate((my_arr, training_set[i]), axis=0)\n",
    "    return my_arr\n",
    "    #-----------------5 Stratifieid K fold\n",
    "l= 0\n",
    "\n",
    "for i in range(5):#-------loop for stratifeid k fold\n",
    "    training_set = []\n",
    "    #training_set.clear()\n",
    "    testing_set = []\n",
    "    testing_set =data_merged[i]\n",
    "    for j in range(5):\n",
    "        if i !=j:\n",
    "            training_set.append(data_merged[i])\n",
    "    training_set = concat_list(training_set,size=4)\n",
    "    \n",
    "    training_set_labels = training_set[:,21]\n",
    "    training_set = training_set[:,0:21]\n",
    "    testing_set_labels = testing_set[:,21]\n",
    "    testing_set = testing_set[:,0:21]\n",
    "    print(\"WHEN K FOLD TEST AT\", +i)\n",
    "    \n",
    "    \n",
    "    SFS(training_set,training_set_labels,testing_set,testing_set_labels)#--------calling the sfs function\n",
    "    \n",
    "    \n",
    "    \n",
    "    \n",
    "    \n",
    "    \n"
   ]
  },
  {
   "cell_type": "code",
   "execution_count": null,
   "metadata": {},
   "outputs": [],
   "source": []
  },
  {
   "cell_type": "code",
   "execution_count": null,
   "metadata": {},
   "outputs": [],
   "source": []
  },
  {
   "cell_type": "code",
   "execution_count": null,
   "metadata": {},
   "outputs": [],
   "source": []
  },
  {
   "cell_type": "code",
   "execution_count": null,
   "metadata": {},
   "outputs": [],
   "source": []
  },
  {
   "cell_type": "code",
   "execution_count": null,
   "metadata": {},
   "outputs": [],
   "source": []
  },
  {
   "cell_type": "code",
   "execution_count": null,
   "metadata": {},
   "outputs": [],
   "source": []
  },
  {
   "cell_type": "code",
   "execution_count": null,
   "metadata": {},
   "outputs": [],
   "source": []
  },
  {
   "cell_type": "code",
   "execution_count": null,
   "metadata": {},
   "outputs": [],
   "source": []
  },
  {
   "cell_type": "code",
   "execution_count": null,
   "metadata": {},
   "outputs": [],
   "source": []
  },
  {
   "cell_type": "code",
   "execution_count": null,
   "metadata": {},
   "outputs": [],
   "source": []
  },
  {
   "cell_type": "code",
   "execution_count": null,
   "metadata": {},
   "outputs": [],
   "source": []
  }
 ],
 "metadata": {
  "kernelspec": {
   "display_name": "Python 3",
   "language": "python",
   "name": "python3"
  },
  "language_info": {
   "codemirror_mode": {
    "name": "ipython",
    "version": 3
   },
   "file_extension": ".py",
   "mimetype": "text/x-python",
   "name": "python",
   "nbconvert_exporter": "python",
   "pygments_lexer": "ipython3",
   "version": "3.7.4"
  }
 },
 "nbformat": 4,
 "nbformat_minor": 2
}
